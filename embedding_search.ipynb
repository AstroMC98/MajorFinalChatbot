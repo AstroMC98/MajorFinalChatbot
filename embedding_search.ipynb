{
 "cells": [
  {
   "cell_type": "code",
   "execution_count": null,
   "metadata": {},
   "outputs": [],
   "source": [
    "import chromadb\n",
    "from chromadb.utils import embedding_functions\n"
   ]
  },
  {
   "cell_type": "code",
   "execution_count": null,
   "metadata": {},
   "outputs": [],
   "source": [
    "\n",
    "CHROMA_DATA_PATH = 'chromadb_major_travel/'\n",
    "HYPO_COLLECTION_NAME = \"hypothetical_embeddings\"\n",
    "DOCS_COLLECTION_NAME = \"document_embeddings\"\n",
    "\n",
    "def text_embedding(text):\n",
    "    response = openai.Embedding.create(model=\"text-embedding-3-small\", input=text)\n",
    "    return response[\"data\"][0][\"embedding\"]\n",
    "\n",
    "openai_ef = embedding_functions.OpenAIEmbeddingFunction(\n",
    "                api_key=openai_api_key,\n",
    "                model_name=\"text-embedding-3-small\"\n",
    "            )\n",
    "\n",
    "client = chromadb.PersistentClient(path = CHROMA_DATA_PATH)\n",
    "\n",
    "document_collection = client.get_or_create_collection(\n",
    "    name = DOCS_COLLECTION_NAME,\n",
    "    embedding_function = openai_ef,\n",
    "    metadata = {\"hnsw:space\" : \"cosine\"}\n",
    ")\n",
    "\n",
    "questions_collection = client.get_or_create_collection(\n",
    "    name = HYPO_COLLECTION_NAME,\n",
    "    embedding_function = openai_ef,\n",
    "    metadata = {\"hnsw:space\" : \"cosine\"}\n",
    ")\n",
    "\n",
    "# Startup ChromaDB with Initial Query\n",
    "qcol_init = questions_collection.query(\n",
    "        query_texts = [\"Initialize Collection\"],\n",
    "        n_results = 5,\n",
    "        include=[\"documents\",\"distances\",\"metadatas\"]\n",
    "    )\n",
    "\n",
    "dcol_init = document_collection.query(\n",
    "        query_texts = [\"Initialize Collection\"],\n",
    "        n_results = 5,\n",
    "        include=[\"documents\",\"distances\",\"metadatas\"]\n",
    "    )\n"
   ]
  }
 ],
 "metadata": {
  "kernelspec": {
   "display_name": "chroma",
   "language": "python",
   "name": "python3"
  },
  "language_info": {
   "name": "python",
   "version": "3.12.2"
  }
 },
 "nbformat": 4,
 "nbformat_minor": 2
}
